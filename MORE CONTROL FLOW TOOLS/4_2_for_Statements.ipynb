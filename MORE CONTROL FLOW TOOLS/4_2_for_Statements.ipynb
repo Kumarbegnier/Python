{
  "nbformat": 4,
  "nbformat_minor": 0,
  "metadata": {
    "colab": {
      "provenance": [],
      "authorship_tag": "ABX9TyPSsRYDHUV1PSNvzA1Fz72H",
      "include_colab_link": true
    },
    "kernelspec": {
      "name": "python3",
      "display_name": "Python 3"
    },
    "language_info": {
      "name": "python"
    }
  },
  "cells": [
    {
      "cell_type": "markdown",
      "metadata": {
        "id": "view-in-github",
        "colab_type": "text"
      },
      "source": [
        "<a href=\"https://colab.research.google.com/github/Kumarbegnier/Python/blob/MORE-CONTROL-FLOW-TOOLS/4_2_for_Statements.ipynb\" target=\"_parent\"><img src=\"https://colab.research.google.com/assets/colab-badge.svg\" alt=\"Open In Colab\"/></a>"
      ]
    },
    {
      "cell_type": "markdown",
      "source": [
        "The for statement in Python differs a bit from what you may be used to in C or Pascal. Rather than always\n",
        "iterating over an arithmetic progression of numbers (like in Pascal), or giving the user the ability to define\n",
        "both the iteration step and halting condition (as C), Python’s for statement iterates over the items of any\n",
        "sequence (a list or a string), in the order that they appear in the sequence. For example (no pun intended):"
      ],
      "metadata": {
        "id": "k9ZVHcLd8Ynv"
      }
    },
    {
      "cell_type": "code",
      "source": [
        "# Measure some strings:\n",
        "words = ['cat', 'window', 'defenestrate']\n",
        "for w in words:\n",
        "  print(w, len(w))\n"
      ],
      "metadata": {
        "colab": {
          "base_uri": "https://localhost:8080/"
        },
        "id": "zfSK9TE08eXg",
        "outputId": "885b8d6d-89f9-4f7c-a396-5824c3987aa5"
      },
      "execution_count": null,
      "outputs": [
        {
          "output_type": "stream",
          "name": "stdout",
          "text": [
            "cat 3\n",
            "window 6\n",
            "defenestrate 12\n"
          ]
        }
      ]
    },
    {
      "cell_type": "markdown",
      "source": [
        "If you need to modify the sequence you are iterating over while inside the loop (for example to duplicate\n",
        "selected items), it is recommended that you first make a copy. Iterating over a sequence does not implicitly\n",
        "make a copy. The slice notation makes this especially convenient:\n"
      ],
      "metadata": {
        "id": "IOWKoYcw9M7n"
      }
    },
    {
      "cell_type": "code",
      "source": [
        "for w in words[:]: # Loop over a slice copy of the entire list.\n",
        "if len(w) > 6:\n",
        "  words.insert(0, w)\n",
        "  words\n",
        "  ['defenestrate', 'cat', 'window', 'defenestrate']\n",
        "\n"
      ],
      "metadata": {
        "colab": {
          "base_uri": "https://localhost:8080/",
          "height": 131
        },
        "id": "fCnKvagX9Q3p",
        "outputId": "0d3a4e64-e818-4e23-91be-83a9d6bbebbd"
      },
      "execution_count": null,
      "outputs": [
        {
          "output_type": "error",
          "ename": "IndentationError",
          "evalue": "ignored",
          "traceback": [
            "\u001b[0;36m  File \u001b[0;32m\"<ipython-input-10-6a90c8ae2df0>\"\u001b[0;36m, line \u001b[0;32m2\u001b[0m\n\u001b[0;31m    if len(w) > 6:\u001b[0m\n\u001b[0m     ^\u001b[0m\n\u001b[0;31mIndentationError\u001b[0m\u001b[0;31m:\u001b[0m expected an indented block\n"
          ]
        }
      ]
    }
  ]
}