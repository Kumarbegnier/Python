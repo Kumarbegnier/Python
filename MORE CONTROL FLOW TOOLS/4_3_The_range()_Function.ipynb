{
  "nbformat": 4,
  "nbformat_minor": 0,
  "metadata": {
    "colab": {
      "provenance": [],
      "collapsed_sections": [],
      "authorship_tag": "ABX9TyPStjtao81EpDeooGmv2Sho",
      "include_colab_link": true
    },
    "kernelspec": {
      "name": "python3",
      "display_name": "Python 3"
    },
    "language_info": {
      "name": "python"
    }
  },
  "cells": [
    {
      "cell_type": "markdown",
      "metadata": {
        "id": "view-in-github",
        "colab_type": "text"
      },
      "source": [
        "<a href=\"https://colab.research.google.com/github/Kumarbegnier/Python/blob/MORE-CONTROL-FLOW-TOOLS/4_3_The_range()_Function.ipynb\" target=\"_parent\"><img src=\"https://colab.research.google.com/assets/colab-badge.svg\" alt=\"Open In Colab\"/></a>"
      ]
    },
    {
      "cell_type": "markdown",
      "source": [
        "If you do need to iterate over a sequence of numbers, the built-in function range() comes in handy. It\n",
        "generates arithmetic progressions:\n"
      ],
      "metadata": {
        "id": "T6GqKHfuHyHI"
      }
    },
    {
      "cell_type": "code",
      "source": [
        "for i in range(8):\n",
        "  print(i)"
      ],
      "metadata": {
        "colab": {
          "base_uri": "https://localhost:8080/"
        },
        "id": "BJGhZDCAH2Hx",
        "outputId": "e98b26a0-bfb8-4f7d-8783-91f48a856414"
      },
      "execution_count": 11,
      "outputs": [
        {
          "output_type": "stream",
          "name": "stdout",
          "text": [
            "0\n",
            "1\n",
            "2\n",
            "3\n",
            "4\n",
            "5\n",
            "6\n",
            "7\n"
          ]
        }
      ]
    },
    {
      "cell_type": "markdown",
      "source": [
        "The given end point is never part of the generated sequence; range(10) generates 10 values, the legal indices\n",
        "for items of a sequence of length 10. It is possible to let the range start at another number, or to specify a\n",
        "different increment (even negative; sometimes this is called the ‘step’):\n"
      ],
      "metadata": {
        "id": "DRwrZB9XICYX"
      }
    },
    {
      "cell_type": "code",
      "source": [
        "for i in range(5, 10):\n",
        "  print(i)"
      ],
      "metadata": {
        "colab": {
          "base_uri": "https://localhost:8080/"
        },
        "id": "SuQMh3cgO8DE",
        "outputId": "c8c6d6f9-0451-4a8d-d8c8-ae0206a4e6bc"
      },
      "execution_count": 12,
      "outputs": [
        {
          "output_type": "stream",
          "name": "stdout",
          "text": [
            "5\n",
            "6\n",
            "7\n",
            "8\n",
            "9\n"
          ]
        }
      ]
    },
    {
      "cell_type": "code",
      "source": [
        "for i in range(0, 20, 3):\n",
        "  print(i)"
      ],
      "metadata": {
        "colab": {
          "base_uri": "https://localhost:8080/"
        },
        "id": "TvCJTO8DPCcC",
        "outputId": "34bba94d-1dae-4517-b989-0069c0277f03"
      },
      "execution_count": 16,
      "outputs": [
        {
          "output_type": "stream",
          "name": "stdout",
          "text": [
            "0\n",
            "3\n",
            "6\n",
            "9\n",
            "12\n",
            "15\n",
            "18\n"
          ]
        }
      ]
    },
    {
      "cell_type": "code",
      "source": [
        "\n",
        "\n",
        "for i in range(-10, -100, -25):\n",
        "  print(i)\n",
        "\n"
      ],
      "metadata": {
        "colab": {
          "base_uri": "https://localhost:8080/"
        },
        "id": "jB0OfVLyIDJn",
        "outputId": "d4bbf4f9-36cd-49da-a387-87c04a78cce4"
      },
      "execution_count": 15,
      "outputs": [
        {
          "output_type": "stream",
          "name": "stdout",
          "text": [
            "-10\n",
            "-35\n",
            "-60\n",
            "-85\n"
          ]
        }
      ]
    },
    {
      "cell_type": "code",
      "source": [
        "a = ['Mary', 'had', 'a', 'little', 'lamb']\n",
        "for i in range(len(a)):\n",
        "  print(i, a[i])\n",
        "\n"
      ],
      "metadata": {
        "colab": {
          "base_uri": "https://localhost:8080/"
        },
        "id": "Z7T1abGUQzMh",
        "outputId": "a9e2720e-d3d5-4717-99cd-1306e7ba964f"
      },
      "execution_count": 17,
      "outputs": [
        {
          "output_type": "stream",
          "name": "stdout",
          "text": [
            "0 Mary\n",
            "1 had\n",
            "2 a\n",
            "3 little\n",
            "4 lamb\n"
          ]
        }
      ]
    },
    {
      "cell_type": "markdown",
      "source": [
        "In most such cases, however, it is convenient to use the enumerate() function, see Looping Techniques.\n",
        "A strange thing happens if you just print a range:"
      ],
      "metadata": {
        "id": "NKcEoP6XQ-aa"
      }
    },
    {
      "cell_type": "code",
      "source": [
        "print(range(10))\n"
      ],
      "metadata": {
        "colab": {
          "base_uri": "https://localhost:8080/"
        },
        "id": "x1GZ1RaLRBJK",
        "outputId": "e91a721a-34fb-4157-db74-9a6ff3d6ffa9"
      },
      "execution_count": 21,
      "outputs": [
        {
          "output_type": "stream",
          "name": "stdout",
          "text": [
            "range(0, 10)\n"
          ]
        }
      ]
    },
    {
      "cell_type": "markdown",
      "source": [
        "In many ways the object returned by range() behaves as if it is a list, but in fact it isn’t. It is an object\n",
        "which returns the successive items of the desired sequence when you iterate over it, but it doesn’t really\n",
        "make the list, thus saving space.\n",
        "We say such an object is iterable, that is, suitable as a target for functions and constructs that expect\n",
        "something from which they can obtain successive items until the supply is exhausted. We have seen that\n",
        "the for statement is such an iterator. The function list() is another; it creates lists from iterables:\n"
      ],
      "metadata": {
        "id": "KmVUU22VRKZ6"
      }
    },
    {
      "cell_type": "code",
      "source": [
        "list(range(5))\n"
      ],
      "metadata": {
        "colab": {
          "base_uri": "https://localhost:8080/"
        },
        "id": "ouJPfW5gRKjz",
        "outputId": "4c2ffecd-1a3a-43c4-f119-d8a8b1c6af46"
      },
      "execution_count": 22,
      "outputs": [
        {
          "output_type": "execute_result",
          "data": {
            "text/plain": [
              "[0, 1, 2, 3, 4]"
            ]
          },
          "metadata": {},
          "execution_count": 22
        }
      ]
    },
    {
      "cell_type": "markdown",
      "source": [
        "Later we will see more functions that return iterables and take iterables as argument."
      ],
      "metadata": {
        "id": "WyHy6TWnRUbY"
      }
    }
  ]
}