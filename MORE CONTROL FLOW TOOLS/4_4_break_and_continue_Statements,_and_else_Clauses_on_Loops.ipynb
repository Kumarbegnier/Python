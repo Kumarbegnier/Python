{
  "nbformat": 4,
  "nbformat_minor": 0,
  "metadata": {
    "colab": {
      "provenance": [],
      "collapsed_sections": []
    },
    "kernelspec": {
      "name": "python3",
      "display_name": "Python 3"
    },
    "language_info": {
      "name": "python"
    }
  },
  "cells": [
    {
      "cell_type": "markdown",
      "source": [
        "The break statement, like in C, breaks out of the innermost enclosing for or while loop.\n",
        "Loop statements may have an else clause; it is executed when the loop terminates through exhaustion of\n",
        "the list (with for) or when the condition becomes false (with while), but not when the loop is terminated\n",
        "by a break statement. This is exemplified by the following loop, which searches for prime numbers:"
      ],
      "metadata": {
        "id": "hh67z6ARgJn4"
      }
    },
    {
      "cell_type": "code",
      "source": [
        "for n in range(2, 10):\n",
        "  for x in range(2, n):\n",
        "    if n % x == 0:\n",
        "      print(n, 'equals', x, '*', n//x)\n",
        "      break\n",
        "    else:\n",
        "        # loop fell through without finding a factor\n",
        "        print(n, 'is a prime number')\n",
        "\n",
        "\n"
      ],
      "metadata": {
        "colab": {
          "base_uri": "https://localhost:8080/"
        },
        "id": "2kuZwfmGgQsX",
        "outputId": "263f95c9-a48b-4e9d-c4fd-c328a00995a1"
      },
      "execution_count": 6,
      "outputs": [
        {
          "output_type": "stream",
          "name": "stdout",
          "text": [
            "3 is a prime number\n",
            "4 equals 2 * 2\n",
            "5 is a prime number\n",
            "5 is a prime number\n",
            "5 is a prime number\n",
            "6 equals 2 * 3\n",
            "7 is a prime number\n",
            "7 is a prime number\n",
            "7 is a prime number\n",
            "7 is a prime number\n",
            "7 is a prime number\n",
            "8 equals 2 * 4\n",
            "9 is a prime number\n",
            "9 equals 3 * 3\n"
          ]
        }
      ]
    },
    {
      "cell_type": "markdown",
      "source": [
        "(Yes, this is the correct code. Look closely: the else clause belongs to the for loop, not the if statement.)\n",
        "When used with a loop, the else clause has more in common with the else clause of a try statement than it\n",
        "does that of if statements: a try statement’s else clause runs when no exception occurs, and a loop’s else\n",
        "clause runs when no break occurs. For more on the try statement and exceptions, see Handling Exceptions.\n",
        "The continue statement, also borrowed from C, continues with the next iteration of the loop:"
      ],
      "metadata": {
        "id": "3vclxQtDh8lv"
      }
    },
    {
      "cell_type": "code",
      "source": [
        "for num in range(2, 10):\n",
        "  if num % 2 == 0:\n",
        "    print(\"Found an even number\", num)\n",
        "    continue\n",
        "  print(\"Found a number\", num)\n",
        "\n"
      ],
      "metadata": {
        "colab": {
          "base_uri": "https://localhost:8080/"
        },
        "id": "7Td9NEZOh-9w",
        "outputId": "070c0dc3-24d1-48e0-aa33-35fda3438813"
      },
      "execution_count": 21,
      "outputs": [
        {
          "output_type": "stream",
          "name": "stdout",
          "text": [
            "Found an even number 2\n",
            "Found a number 3\n",
            "Found an even number 4\n",
            "Found a number 5\n",
            "Found an even number 6\n",
            "Found a number 7\n",
            "Found an even number 8\n",
            "Found a number 9\n"
          ]
        }
      ]
    }
  ]
}