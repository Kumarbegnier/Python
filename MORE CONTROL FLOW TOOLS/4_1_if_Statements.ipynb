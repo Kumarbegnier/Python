{
  "nbformat": 4,
  "nbformat_minor": 0,
  "metadata": {
    "colab": {
      "provenance": [],
      "collapsed_sections": [],
      "authorship_tag": "ABX9TyMkTEcQawABF7TbqRi14hrZ",
      "include_colab_link": true
    },
    "kernelspec": {
      "name": "python3",
      "display_name": "Python 3"
    },
    "language_info": {
      "name": "python"
    }
  },
  "cells": [
    {
      "cell_type": "markdown",
      "metadata": {
        "id": "view-in-github",
        "colab_type": "text"
      },
      "source": [
        "<a href=\"https://colab.research.google.com/github/Kumarbegnier/Python/blob/MORE-CONTROL-FLOW-TOOLS/4_1_if_Statements.ipynb\" target=\"_parent\"><img src=\"https://colab.research.google.com/assets/colab-badge.svg\" alt=\"Open In Colab\"/></a>"
      ]
    },
    {
      "cell_type": "markdown",
      "source": [
        "Perhaps the most well-known statement type is the if statement. For example:\n"
      ],
      "metadata": {
        "id": "uI0lAwFV5m3-"
      }
    },
    {
      "cell_type": "code",
      "source": [
        "x = int(input(\"Please enter an integer: \"))\n"
      ],
      "metadata": {
        "id": "lrIN_Aio5okA"
      },
      "execution_count": null,
      "outputs": []
    },
    {
      "cell_type": "code",
      "source": [
        "if x < 0:\n",
        "  x = 0\n",
        "  print('Negative changed to zero')\n",
        "  elif x == 0:\n",
        "    print('Zero')\n",
        "    elif x == 1:\n",
        "      print('Single')\n",
        "      else:\n",
        "        print('More')\n",
        "\n",
        "\n",
        "\n"
      ],
      "metadata": {
        "id": "gNika0xB52Wv"
      },
      "execution_count": null,
      "outputs": []
    },
    {
      "cell_type": "markdown",
      "source": [
        "There can be zero or more elif parts, and the else part is optional. The keyword ‘elif’ is short for ‘else\n",
        "if’, and is useful to avoid excessive indentation. An if … elif … elif … sequence is a substitute for the\n",
        "switch or case statements found in other languages."
      ],
      "metadata": {
        "id": "BcXU7Gev8Ltv"
      }
    }
  ]
}