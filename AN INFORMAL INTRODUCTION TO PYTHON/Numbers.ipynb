{
  "nbformat": 4,
  "nbformat_minor": 0,
  "metadata": {
    "colab": {
      "provenance": [],
      "collapsed_sections": [],
      "authorship_tag": "ABX9TyM70RN2jSYAX2tP8AZG1TZw",
      "include_colab_link": true
    },
    "kernelspec": {
      "name": "python3",
      "display_name": "Python 3"
    },
    "language_info": {
      "name": "python"
    }
  },
  "cells": [
    {
      "cell_type": "markdown",
      "metadata": {
        "id": "view-in-github",
        "colab_type": "text"
      },
      "source": [
        "<a href=\"https://colab.research.google.com/github/Kumarbegnier/Python/blob/main/Numbers.ipynb\" target=\"_parent\"><img src=\"https://colab.research.google.com/assets/colab-badge.svg\" alt=\"Open In Colab\"/></a>"
      ]
    },
    {
      "cell_type": "code",
      "source": [
        "2 + 2"
      ],
      "metadata": {
        "colab": {
          "base_uri": "https://localhost:8080/"
        },
        "id": "KG6SoKIKhMoN",
        "outputId": "3c8ac304-8a5c-4355-a791-ab75b8a0bb5a"
      },
      "execution_count": 5,
      "outputs": [
        {
          "output_type": "execute_result",
          "data": {
            "text/plain": [
              "4"
            ]
          },
          "metadata": {},
          "execution_count": 5
        }
      ]
    },
    {
      "cell_type": "markdown",
      "source": [
        "Addition"
      ],
      "metadata": {
        "id": "4FoEfW8PhTMN"
      }
    },
    {
      "cell_type": "code",
      "source": [
        "9 - 2"
      ],
      "metadata": {
        "colab": {
          "base_uri": "https://localhost:8080/"
        },
        "id": "gaBX7YHphVjO",
        "outputId": "d584d9e6-bc3c-4be5-92ba-c2371b2938b8"
      },
      "execution_count": 6,
      "outputs": [
        {
          "output_type": "execute_result",
          "data": {
            "text/plain": [
              "7"
            ]
          },
          "metadata": {},
          "execution_count": 6
        }
      ]
    },
    {
      "cell_type": "markdown",
      "source": [
        "Subtract"
      ],
      "metadata": {
        "id": "bZhK01WBhlNF"
      }
    },
    {
      "cell_type": "code",
      "source": [
        "8*9"
      ],
      "metadata": {
        "id": "XiMuC_orh1Ee"
      },
      "execution_count": null,
      "outputs": []
    },
    {
      "cell_type": "markdown",
      "source": [
        "Multiplication"
      ],
      "metadata": {
        "id": "lPiEWg_Hh-T9"
      }
    },
    {
      "cell_type": "code",
      "source": [
        "90/9"
      ],
      "metadata": {
        "colab": {
          "base_uri": "https://localhost:8080/"
        },
        "id": "TIx77XMoiBHe",
        "outputId": "2dd9e625-9826-468a-eeec-e07f49c850a7"
      },
      "execution_count": 8,
      "outputs": [
        {
          "output_type": "execute_result",
          "data": {
            "text/plain": [
              "10.0"
            ]
          },
          "metadata": {},
          "execution_count": 8
        }
      ]
    },
    {
      "cell_type": "markdown",
      "source": [
        "Division (/) always returns a float."
      ],
      "metadata": {
        "id": "C4_4aAuxiEje"
      }
    },
    {
      "cell_type": "code",
      "source": [
        "7**2"
      ],
      "metadata": {
        "colab": {
          "base_uri": "https://localhost:8080/"
        },
        "id": "1UDRMVp9iZot",
        "outputId": "347b4895-c6c1-4bdb-c2eb-791e14993100"
      },
      "execution_count": 9,
      "outputs": [
        {
          "output_type": "execute_result",
          "data": {
            "text/plain": [
              "49"
            ]
          },
          "metadata": {},
          "execution_count": 9
        }
      ]
    },
    {
      "cell_type": "markdown",
      "source": [
        "Use the ** operator to calculate powers1"
      ],
      "metadata": {
        "id": "GQe3YOn5k1D8"
      }
    },
    {
      "cell_type": "code",
      "source": [
        "Length = 10\n",
        "Breath = 8 * 5\n",
        "Length * Breath\n",
        "\n"
      ],
      "metadata": {
        "colab": {
          "base_uri": "https://localhost:8080/"
        },
        "id": "jkM7RVA-j_jw",
        "outputId": "0be1e381-4cff-4e6f-cab3-4f44b7227cba"
      },
      "execution_count": 12,
      "outputs": [
        {
          "output_type": "execute_result",
          "data": {
            "text/plain": [
              "400"
            ]
          },
          "metadata": {},
          "execution_count": 12
        }
      ]
    },
    {
      "cell_type": "markdown",
      "source": [
        "The equal sign (=) is used to assign a value to a variable"
      ],
      "metadata": {
        "id": "FMCgWCGalChE"
      }
    }
  ]
}