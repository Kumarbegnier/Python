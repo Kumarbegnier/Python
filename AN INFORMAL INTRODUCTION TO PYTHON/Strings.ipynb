{
  "nbformat": 4,
  "nbformat_minor": 0,
  "metadata": {
    "colab": {
      "provenance": [],
      "collapsed_sections": [],
      "authorship_tag": "ABX9TyPbILA5P7A5JokX0GsJcy0G",
      "include_colab_link": true
    },
    "kernelspec": {
      "name": "python3",
      "display_name": "Python 3"
    },
    "language_info": {
      "name": "python"
    }
  },
  "cells": [
    {
      "cell_type": "markdown",
      "metadata": {
        "id": "view-in-github",
        "colab_type": "text"
      },
      "source": [
        "<a href=\"https://colab.research.google.com/github/Kumarbegnier/Python/blob/main/Strings.ipynb\" target=\"_parent\"><img src=\"https://colab.research.google.com/assets/colab-badge.svg\" alt=\"Open In Colab\"/></a>"
      ]
    },
    {
      "cell_type": "code",
      "execution_count": 74,
      "metadata": {
        "colab": {
          "base_uri": "https://localhost:8080/",
          "height": 35
        },
        "id": "JZMhlwMCmQzm",
        "outputId": "9f4f0a39-bcd9-41fd-f8f1-f864494204c7"
      },
      "outputs": [
        {
          "output_type": "execute_result",
          "data": {
            "text/plain": [
              "'spam eggs'"
            ],
            "application/vnd.google.colaboratory.intrinsic+json": {
              "type": "string"
            }
          },
          "metadata": {},
          "execution_count": 74
        }
      ],
      "source": [
        "'spam eggs' # single quotes"
      ]
    },
    {
      "cell_type": "code",
      "source": [
        "\"doesn't\" # ...or use double quotes instead"
      ],
      "metadata": {
        "colab": {
          "base_uri": "https://localhost:8080/",
          "height": 35
        },
        "id": "23_1wqZioKW9",
        "outputId": "09a904f1-ecd7-425c-bfd5-a7bd0f8a9abb"
      },
      "execution_count": 75,
      "outputs": [
        {
          "output_type": "execute_result",
          "data": {
            "text/plain": [
              "\"doesn't\""
            ],
            "application/vnd.google.colaboratory.intrinsic+json": {
              "type": "string"
            }
          },
          "metadata": {},
          "execution_count": 75
        }
      ]
    },
    {
      "cell_type": "code",
      "source": [
        "'\"Yes,\" they said.'"
      ],
      "metadata": {
        "colab": {
          "base_uri": "https://localhost:8080/",
          "height": 35
        },
        "id": "8yMlQ8E0obtu",
        "outputId": "d0e6a055-d6c9-448b-d208-2dd99f99a96e"
      },
      "execution_count": 76,
      "outputs": [
        {
          "output_type": "execute_result",
          "data": {
            "text/plain": [
              "'\"Yes,\" they said.'"
            ],
            "application/vnd.google.colaboratory.intrinsic+json": {
              "type": "string"
            }
          },
          "metadata": {},
          "execution_count": 76
        }
      ]
    },
    {
      "cell_type": "code",
      "source": [
        "\"\\\"Yes,\\\" they said.\""
      ],
      "metadata": {
        "colab": {
          "base_uri": "https://localhost:8080/",
          "height": 35
        },
        "id": "DNGumChzoeO3",
        "outputId": "3e342f94-0977-4634-a442-a01afd9bc058"
      },
      "execution_count": 77,
      "outputs": [
        {
          "output_type": "execute_result",
          "data": {
            "text/plain": [
              "'\"Yes,\" they said.'"
            ],
            "application/vnd.google.colaboratory.intrinsic+json": {
              "type": "string"
            }
          },
          "metadata": {},
          "execution_count": 77
        }
      ]
    },
    {
      "cell_type": "code",
      "source": [
        "'\"Isn\\'t,\" they said.'"
      ],
      "metadata": {
        "colab": {
          "base_uri": "https://localhost:8080/",
          "height": 35
        },
        "id": "lYHedOyDohsF",
        "outputId": "cd4047f1-0061-4062-b736-e280b3f2568c"
      },
      "execution_count": 6,
      "outputs": [
        {
          "output_type": "execute_result",
          "data": {
            "text/plain": [
              "'\"Isn\\'t,\" they said.'"
            ],
            "application/vnd.google.colaboratory.intrinsic+json": {
              "type": "string"
            }
          },
          "metadata": {},
          "execution_count": 6
        }
      ]
    },
    {
      "cell_type": "markdown",
      "source": [
        "Python can also manipulate strings, which can be expressed in several ways. They can be\n",
        "enclosed in single quotes ('...') or double quotes (\"...\") with the same result2\n",
        ". \\ can be used to escape\n",
        "quotes"
      ],
      "metadata": {
        "id": "1aURJMDcnTlZ"
      }
    },
    {
      "cell_type": "code",
      "source": [
        "'\"Isn\\'t,\" they said.'"
      ],
      "metadata": {
        "colab": {
          "base_uri": "https://localhost:8080/",
          "height": 35
        },
        "id": "9kngkfNxpZhI",
        "outputId": "1425f7a3-9c61-484b-d5f0-e287997cea3a"
      },
      "execution_count": 78,
      "outputs": [
        {
          "output_type": "execute_result",
          "data": {
            "text/plain": [
              "'\"Isn\\'t,\" they said.'"
            ],
            "application/vnd.google.colaboratory.intrinsic+json": {
              "type": "string"
            }
          },
          "metadata": {},
          "execution_count": 78
        }
      ]
    },
    {
      "cell_type": "code",
      "source": [
        "print('\"Isn\\'t,\" they said.')"
      ],
      "metadata": {
        "colab": {
          "base_uri": "https://localhost:8080/"
        },
        "id": "0nxAr3FMpuGF",
        "outputId": "d0ae38e2-1b11-4612-842e-eedb3eaf3ab1"
      },
      "execution_count": 79,
      "outputs": [
        {
          "output_type": "stream",
          "name": "stdout",
          "text": [
            "\"Isn't,\" they said.\n"
          ]
        }
      ]
    },
    {
      "cell_type": "code",
      "source": [
        "s = 'First line.\\nSecond line.' # \\n means newline"
      ],
      "metadata": {
        "id": "S9B9o_Jwpy93"
      },
      "execution_count": 80,
      "outputs": []
    },
    {
      "cell_type": "code",
      "source": [
        "s # without print(), \\n is included in the output\n"
      ],
      "metadata": {
        "colab": {
          "base_uri": "https://localhost:8080/",
          "height": 35
        },
        "id": "JnKjWoVyp6jF",
        "outputId": "3ae59c03-e49c-4689-e79b-ecfc6a48af46"
      },
      "execution_count": 81,
      "outputs": [
        {
          "output_type": "execute_result",
          "data": {
            "text/plain": [
              "'First line.\\nSecond line.'"
            ],
            "application/vnd.google.colaboratory.intrinsic+json": {
              "type": "string"
            }
          },
          "metadata": {},
          "execution_count": 81
        }
      ]
    },
    {
      "cell_type": "code",
      "source": [
        "print(s) # with print(), \\n produces a new line"
      ],
      "metadata": {
        "colab": {
          "base_uri": "https://localhost:8080/"
        },
        "id": "Gy5_bFL9qDXl",
        "outputId": "4c3f5299-022d-4321-de37-f7b2ac7c1b97"
      },
      "execution_count": 82,
      "outputs": [
        {
          "output_type": "stream",
          "name": "stdout",
          "text": [
            "First line.\n",
            "Second line.\n"
          ]
        }
      ]
    },
    {
      "cell_type": "markdown",
      "source": [
        "In the interactive interpreter, the output string is enclosed in quotes and special characters are escaped with\n",
        "backslashes. While this might sometimes look different from the input (the enclosing quotes could change),\n",
        "the two strings are equivalent. The string is enclosed in double quotes if the string contains a single quote\n",
        "and no double quotes, otherwise it is enclosed in single quotes. The print() function produces a more\n",
        "readable output, by omitting the enclosing quotes and by printing escaped and special characters"
      ],
      "metadata": {
        "id": "V8uX0CUOpmAm"
      }
    },
    {
      "cell_type": "code",
      "source": [
        "print('C:\\some\\name') # here \\n means newline!"
      ],
      "metadata": {
        "colab": {
          "base_uri": "https://localhost:8080/"
        },
        "id": "6lAPe8t0qK2d",
        "outputId": "2655af9c-270a-4155-94d6-c76e6d203980"
      },
      "execution_count": 83,
      "outputs": [
        {
          "output_type": "stream",
          "name": "stdout",
          "text": [
            "C:\\some\n",
            "ame\n"
          ]
        }
      ]
    },
    {
      "cell_type": "code",
      "source": [
        "print(r'C:\\some\\name') # note the r before the quote"
      ],
      "metadata": {
        "colab": {
          "base_uri": "https://localhost:8080/"
        },
        "id": "TRA-tDYMqQK2",
        "outputId": "e6c9b64d-f686-4616-9c5f-5a3d3769030a"
      },
      "execution_count": 84,
      "outputs": [
        {
          "output_type": "stream",
          "name": "stdout",
          "text": [
            "C:\\some\\name\n"
          ]
        }
      ]
    },
    {
      "cell_type": "markdown",
      "source": [
        "If you don’t want characters prefaced by \\ to be interpreted as special characters, you can use raw strings\n",
        "by adding an r before the first quote"
      ],
      "metadata": {
        "id": "OcNhB7AqqTFn"
      }
    },
    {
      "cell_type": "code",
      "source": [
        "print(\"\"\"\\\n",
        "Usage: thingy [OPTIONS]\n",
        "-h Display this usage message\n",
        "-H hostname Hostname to connect to\n",
        "\"\"\")"
      ],
      "metadata": {
        "id": "cnTYolmdq5Dl",
        "colab": {
          "base_uri": "https://localhost:8080/"
        },
        "outputId": "14e0d7d1-781c-4e84-ee07-0457e257c8a1"
      },
      "execution_count": 85,
      "outputs": [
        {
          "output_type": "stream",
          "name": "stdout",
          "text": [
            "Usage: thingy [OPTIONS]\n",
            "-h Display this usage message\n",
            "-H hostname Hostname to connect to\n",
            "\n"
          ]
        }
      ]
    },
    {
      "cell_type": "markdown",
      "source": [
        "String literals can span multiple lines. One way is using triple-quotes: \"\"\"...\"\"\" or '''...'''. End of\n",
        "lines are automatically included in the string, but it’s possible to prevent this by adding a \\ at the end of\n",
        "the line. The following example: produces the following output (note that the initial newline is not included):\n"
      ],
      "metadata": {
        "id": "c4ZqUvm4q54N"
      }
    },
    {
      "cell_type": "code",
      "source": [
        "# 3 times 'YO', followed by 'ium'\n",
        "3 * 'YO' + 'Honey Singh'\n"
      ],
      "metadata": {
        "id": "x4DQYF87sUcx",
        "colab": {
          "base_uri": "https://localhost:8080/",
          "height": 35
        },
        "outputId": "97fef5d4-7a37-47d3-f748-e265e3035156"
      },
      "execution_count": 86,
      "outputs": [
        {
          "output_type": "execute_result",
          "data": {
            "text/plain": [
              "'YOYOYOHoney Singh'"
            ],
            "application/vnd.google.colaboratory.intrinsic+json": {
              "type": "string"
            }
          },
          "metadata": {},
          "execution_count": 86
        }
      ]
    },
    {
      "cell_type": "markdown",
      "source": [
        "Strings can be concatenated (glued together) with the + operator, and repeated with *:"
      ],
      "metadata": {
        "id": "mB4FKQP-sVNW"
      }
    },
    {
      "cell_type": "code",
      "source": [
        "'X' 'Men'\n"
      ],
      "metadata": {
        "id": "9CIlJNTgt4KL",
        "colab": {
          "base_uri": "https://localhost:8080/",
          "height": 35
        },
        "outputId": "176e630a-557a-4a2b-e654-ded62bc81797"
      },
      "execution_count": 87,
      "outputs": [
        {
          "output_type": "execute_result",
          "data": {
            "text/plain": [
              "'XMen'"
            ],
            "application/vnd.google.colaboratory.intrinsic+json": {
              "type": "string"
            }
          },
          "metadata": {},
          "execution_count": 87
        }
      ]
    },
    {
      "cell_type": "markdown",
      "source": [
        "Two or more string literals (i.e. the ones enclosed between quotes) next to each other are automatically\n",
        "concatenated."
      ],
      "metadata": {
        "id": "ELmQsKbuuYZ2"
      }
    },
    {
      "cell_type": "code",
      "source": [
        "text = ('Put several strings within parentheses '\n",
        "... 'to have them joined together.')"
      ],
      "metadata": {
        "id": "x4qmS2-wu-MG"
      },
      "execution_count": 88,
      "outputs": []
    },
    {
      "cell_type": "code",
      "source": [
        "text\n",
        "'Put several strings within parentheses to have them joined together.'\n"
      ],
      "metadata": {
        "id": "SsmkS6_qvBuG",
        "colab": {
          "base_uri": "https://localhost:8080/",
          "height": 35
        },
        "outputId": "b493073a-0ccc-4eb0-f04a-c6a9de5c97bc"
      },
      "execution_count": 89,
      "outputs": [
        {
          "output_type": "execute_result",
          "data": {
            "text/plain": [
              "'Put several strings within parentheses to have them joined together.'"
            ],
            "application/vnd.google.colaboratory.intrinsic+json": {
              "type": "string"
            }
          },
          "metadata": {},
          "execution_count": 89
        }
      ]
    },
    {
      "cell_type": "markdown",
      "source": [
        "This feature is particularly useful when you want to break long strings:"
      ],
      "metadata": {
        "id": "cNHSnS4ivCkJ"
      }
    },
    {
      "cell_type": "code",
      "source": [
        " prefix = 'X'"
      ],
      "metadata": {
        "id": "jhPIIKpU9sX4"
      },
      "execution_count": 90,
      "outputs": []
    },
    {
      "cell_type": "code",
      "source": [
        "prefix 'Men' # can't concatenate a variable and a string literal"
      ],
      "metadata": {
        "colab": {
          "base_uri": "https://localhost:8080/",
          "height": 131
        },
        "id": "eR1N9GGA9wjw",
        "outputId": "0caf054a-6f8a-4faa-fdba-a030cea6f9ca"
      },
      "execution_count": 91,
      "outputs": [
        {
          "output_type": "error",
          "ename": "SyntaxError",
          "evalue": "ignored",
          "traceback": [
            "\u001b[0;36m  File \u001b[0;32m\"<ipython-input-91-d0ca3cf98382>\"\u001b[0;36m, line \u001b[0;32m1\u001b[0m\n\u001b[0;31m    prefix 'Men' # can't concatenate a variable and a string literal\u001b[0m\n\u001b[0m               ^\u001b[0m\n\u001b[0;31mSyntaxError\u001b[0m\u001b[0;31m:\u001b[0m invalid syntax\n"
          ]
        }
      ]
    },
    {
      "cell_type": "code",
      "source": [
        "('Yo' * 3) 'Honey Singh'\n"
      ],
      "metadata": {
        "colab": {
          "base_uri": "https://localhost:8080/",
          "height": 131
        },
        "id": "xKHjUido908v",
        "outputId": "1c5ddc50-0bf2-438a-beee-e1b09e768693"
      },
      "execution_count": 92,
      "outputs": [
        {
          "output_type": "error",
          "ename": "SyntaxError",
          "evalue": "ignored",
          "traceback": [
            "\u001b[0;36m  File \u001b[0;32m\"<ipython-input-92-6ecc01c4fb58>\"\u001b[0;36m, line \u001b[0;32m1\u001b[0m\n\u001b[0;31m    ('Yo' * 3) 'Honey Singh'\u001b[0m\n\u001b[0m                           ^\u001b[0m\n\u001b[0;31mSyntaxError\u001b[0m\u001b[0;31m:\u001b[0m invalid syntax\n"
          ]
        }
      ]
    },
    {
      "cell_type": "markdown",
      "source": [
        "This only works with two literals though, not with variables or expressions"
      ],
      "metadata": {
        "id": "yn3eZIWb9-q2"
      }
    },
    {
      "cell_type": "code",
      "source": [
        "prefix + 'Men'\n"
      ],
      "metadata": {
        "colab": {
          "base_uri": "https://localhost:8080/",
          "height": 35
        },
        "id": "Yg2_ZH2G93gH",
        "outputId": "f1e53b85-31d5-453e-a7fe-032da4dd268e"
      },
      "execution_count": 93,
      "outputs": [
        {
          "output_type": "execute_result",
          "data": {
            "text/plain": [
              "'XMen'"
            ],
            "application/vnd.google.colaboratory.intrinsic+json": {
              "type": "string"
            }
          },
          "metadata": {},
          "execution_count": 93
        }
      ]
    },
    {
      "cell_type": "markdown",
      "source": [
        "If you want to concatenate variables or a variable and a literal, use +:"
      ],
      "metadata": {
        "id": "K71Mok8J-n64"
      }
    },
    {
      "cell_type": "code",
      "source": [
        "word = 'Neeraj'\n",
        "word[0] # character in position 0"
      ],
      "metadata": {
        "colab": {
          "base_uri": "https://localhost:8080/",
          "height": 35
        },
        "id": "qA8gL2wi-pB-",
        "outputId": "ad194b8c-65be-458f-f181-faf1075859bc"
      },
      "execution_count": 94,
      "outputs": [
        {
          "output_type": "execute_result",
          "data": {
            "text/plain": [
              "'N'"
            ],
            "application/vnd.google.colaboratory.intrinsic+json": {
              "type": "string"
            }
          },
          "metadata": {},
          "execution_count": 94
        }
      ]
    },
    {
      "cell_type": "code",
      "source": [
        "word[5] # character in position 5"
      ],
      "metadata": {
        "colab": {
          "base_uri": "https://localhost:8080/",
          "height": 35
        },
        "id": "A8TCrWiG-uao",
        "outputId": "6b35a7fa-0dd4-44be-fbdb-ceb794b772f4"
      },
      "execution_count": 95,
      "outputs": [
        {
          "output_type": "execute_result",
          "data": {
            "text/plain": [
              "'j'"
            ],
            "application/vnd.google.colaboratory.intrinsic+json": {
              "type": "string"
            }
          },
          "metadata": {},
          "execution_count": 95
        }
      ]
    },
    {
      "cell_type": "markdown",
      "source": [
        "Strings can be indexed (subscripted), with the first character having index 0. There is no separate character\n",
        "type; a character is simply a string of size one"
      ],
      "metadata": {
        "id": "uyN6BW9B_fvn"
      }
    },
    {
      "cell_type": "code",
      "source": [
        "word[-1] # last character"
      ],
      "metadata": {
        "colab": {
          "base_uri": "https://localhost:8080/",
          "height": 35
        },
        "id": "iKXVMFF6_MBO",
        "outputId": "afd45f26-50ae-44c7-b068-53835e9f3f76"
      },
      "execution_count": 96,
      "outputs": [
        {
          "output_type": "execute_result",
          "data": {
            "text/plain": [
              "'j'"
            ],
            "application/vnd.google.colaboratory.intrinsic+json": {
              "type": "string"
            }
          },
          "metadata": {},
          "execution_count": 96
        }
      ]
    },
    {
      "cell_type": "code",
      "source": [
        "word[-2] # second-last character"
      ],
      "metadata": {
        "colab": {
          "base_uri": "https://localhost:8080/",
          "height": 35
        },
        "id": "JwbS3uov_QTw",
        "outputId": "dac8919d-3cbf-4dab-dbe0-495faacf8599"
      },
      "execution_count": 97,
      "outputs": [
        {
          "output_type": "execute_result",
          "data": {
            "text/plain": [
              "'a'"
            ],
            "application/vnd.google.colaboratory.intrinsic+json": {
              "type": "string"
            }
          },
          "metadata": {},
          "execution_count": 97
        }
      ]
    },
    {
      "cell_type": "code",
      "source": [
        "word[-6]"
      ],
      "metadata": {
        "colab": {
          "base_uri": "https://localhost:8080/",
          "height": 35
        },
        "id": "Z5OTi8m9_Tgw",
        "outputId": "709de31c-abf7-46ec-d561-b91e38b0a780"
      },
      "execution_count": 98,
      "outputs": [
        {
          "output_type": "execute_result",
          "data": {
            "text/plain": [
              "'N'"
            ],
            "application/vnd.google.colaboratory.intrinsic+json": {
              "type": "string"
            }
          },
          "metadata": {},
          "execution_count": 98
        }
      ]
    },
    {
      "cell_type": "markdown",
      "source": [
        "Indices may also be negative numbers, to start counting from the right:"
      ],
      "metadata": {
        "id": "KboqkVOC_YTP"
      }
    },
    {
      "cell_type": "code",
      "source": [
        "word[0:2] # characters from position 0 (included) to 2 (excluded)"
      ],
      "metadata": {
        "colab": {
          "base_uri": "https://localhost:8080/",
          "height": 35
        },
        "id": "7cEQcIqU_tAj",
        "outputId": "9a838a67-1676-452c-a5ac-b0c37ada9a12"
      },
      "execution_count": 99,
      "outputs": [
        {
          "output_type": "execute_result",
          "data": {
            "text/plain": [
              "'Ne'"
            ],
            "application/vnd.google.colaboratory.intrinsic+json": {
              "type": "string"
            }
          },
          "metadata": {},
          "execution_count": 99
        }
      ]
    },
    {
      "cell_type": "code",
      "source": [
        "word[2:5] # characters from position 2 (included) to 5 (excluded)\n"
      ],
      "metadata": {
        "colab": {
          "base_uri": "https://localhost:8080/",
          "height": 35
        },
        "id": "5CK_CwV3_w75",
        "outputId": "3d52df09-a498-47eb-b053-d9380e1e9eb0"
      },
      "execution_count": 100,
      "outputs": [
        {
          "output_type": "execute_result",
          "data": {
            "text/plain": [
              "'era'"
            ],
            "application/vnd.google.colaboratory.intrinsic+json": {
              "type": "string"
            }
          },
          "metadata": {},
          "execution_count": 100
        }
      ]
    },
    {
      "cell_type": "markdown",
      "source": [
        "Note that since -0 is the same as 0, negative indices start from -1.\n",
        "In addition to indexing, slicing is also supported. While indexing is used to obtain individual characters,\n",
        "slicing allows you to obtain substring\n"
      ],
      "metadata": {
        "id": "kX3BMDI5_0KI"
      }
    },
    {
      "cell_type": "code",
      "source": [
        "word[:2] + word[2:]"
      ],
      "metadata": {
        "colab": {
          "base_uri": "https://localhost:8080/",
          "height": 35
        },
        "id": "rs77f1Jk_2bP",
        "outputId": "f61fa405-2384-42fb-bb45-9da01e64e58a"
      },
      "execution_count": 101,
      "outputs": [
        {
          "output_type": "execute_result",
          "data": {
            "text/plain": [
              "'Neeraj'"
            ],
            "application/vnd.google.colaboratory.intrinsic+json": {
              "type": "string"
            }
          },
          "metadata": {},
          "execution_count": 101
        }
      ]
    },
    {
      "cell_type": "code",
      "source": [
        "word[:4] + word[4:]"
      ],
      "metadata": {
        "colab": {
          "base_uri": "https://localhost:8080/",
          "height": 35
        },
        "id": "l5c43sDRABDc",
        "outputId": "6108f34a-52e5-4ca6-9497-1714c6b5192f"
      },
      "execution_count": 103,
      "outputs": [
        {
          "output_type": "execute_result",
          "data": {
            "text/plain": [
              "'Neeraj'"
            ],
            "application/vnd.google.colaboratory.intrinsic+json": {
              "type": "string"
            }
          },
          "metadata": {},
          "execution_count": 103
        }
      ]
    },
    {
      "cell_type": "code",
      "source": [
        "word[:2] + word[4:]"
      ],
      "metadata": {
        "colab": {
          "base_uri": "https://localhost:8080/",
          "height": 35
        },
        "id": "QUS_0ee8A2Qj",
        "outputId": "aa4dbda6-559c-47d6-c3a7-ea05c0e5f5b8"
      },
      "execution_count": 104,
      "outputs": [
        {
          "output_type": "execute_result",
          "data": {
            "text/plain": [
              "'Neaj'"
            ],
            "application/vnd.google.colaboratory.intrinsic+json": {
              "type": "string"
            }
          },
          "metadata": {},
          "execution_count": 104
        }
      ]
    },
    {
      "cell_type": "code",
      "source": [
        "word[:4] + word[2:]"
      ],
      "metadata": {
        "colab": {
          "base_uri": "https://localhost:8080/",
          "height": 35
        },
        "id": "nW1OjrYdA5nT",
        "outputId": "15689998-9652-423b-b3b0-bc32b8e65136"
      },
      "execution_count": 105,
      "outputs": [
        {
          "output_type": "execute_result",
          "data": {
            "text/plain": [
              "'Neereraj'"
            ],
            "application/vnd.google.colaboratory.intrinsic+json": {
              "type": "string"
            }
          },
          "metadata": {},
          "execution_count": 105
        }
      ]
    },
    {
      "cell_type": "markdown",
      "source": [
        "Note how the start is always included, and the end always excluded. This makes sure that s[:i] + s[i:]\n",
        "is always equal to s:"
      ],
      "metadata": {
        "id": "bZoDubP4AACk"
      }
    },
    {
      "cell_type": "code",
      "source": [
        "word[:2] # character from the beginning to position 2 (excluded)"
      ],
      "metadata": {
        "colab": {
          "base_uri": "https://localhost:8080/",
          "height": 35
        },
        "id": "-wc5nFJeAkpB",
        "outputId": "90725b5c-3bf3-4de0-f630-61bfcdb617b5"
      },
      "execution_count": 106,
      "outputs": [
        {
          "output_type": "execute_result",
          "data": {
            "text/plain": [
              "'Ne'"
            ],
            "application/vnd.google.colaboratory.intrinsic+json": {
              "type": "string"
            }
          },
          "metadata": {},
          "execution_count": 106
        }
      ]
    },
    {
      "cell_type": "code",
      "source": [
        "word[4:] # characters from position 4 (included) to the end"
      ],
      "metadata": {
        "colab": {
          "base_uri": "https://localhost:8080/",
          "height": 35
        },
        "id": "pzcUSUoBBW-X",
        "outputId": "043fd5b3-9308-4515-8c5a-2b8f53e1de07"
      },
      "execution_count": 107,
      "outputs": [
        {
          "output_type": "execute_result",
          "data": {
            "text/plain": [
              "'aj'"
            ],
            "application/vnd.google.colaboratory.intrinsic+json": {
              "type": "string"
            }
          },
          "metadata": {},
          "execution_count": 107
        }
      ]
    },
    {
      "cell_type": "code",
      "source": [
        "word[-2:] # characters from the second-last (included) to the end"
      ],
      "metadata": {
        "colab": {
          "base_uri": "https://localhost:8080/",
          "height": 35
        },
        "id": "IKZ26l0jBZR_",
        "outputId": "f89ef496-cd1f-472e-9bfe-9ef1f8dd91f1"
      },
      "execution_count": 108,
      "outputs": [
        {
          "output_type": "execute_result",
          "data": {
            "text/plain": [
              "'aj'"
            ],
            "application/vnd.google.colaboratory.intrinsic+json": {
              "type": "string"
            }
          },
          "metadata": {},
          "execution_count": 108
        }
      ]
    },
    {
      "cell_type": "markdown",
      "source": [
        "Slice indices have useful defaults; an omitted first index defaults to zero, an omitted second index defaults\n",
        "to the size of the string being sliced."
      ],
      "metadata": {
        "id": "3Q0eufSJAjlv"
      }
    },
    {
      "cell_type": "code",
      "source": [
        "word[42] # the word only has 6 characters"
      ],
      "metadata": {
        "colab": {
          "base_uri": "https://localhost:8080/",
          "height": 166
        },
        "id": "QLfiwUY3DOxn",
        "outputId": "1aaca022-f7e4-48ed-abeb-15bc2725f39b"
      },
      "execution_count": 110,
      "outputs": [
        {
          "output_type": "error",
          "ename": "IndexError",
          "evalue": "ignored",
          "traceback": [
            "\u001b[0;31m---------------------------------------------------------------------------\u001b[0m",
            "\u001b[0;31mIndexError\u001b[0m                                Traceback (most recent call last)",
            "\u001b[0;32m<ipython-input-110-7c9daa973870>\u001b[0m in \u001b[0;36m<module>\u001b[0;34m\u001b[0m\n\u001b[0;32m----> 1\u001b[0;31m \u001b[0mword\u001b[0m\u001b[0;34m[\u001b[0m\u001b[0;36m42\u001b[0m\u001b[0;34m]\u001b[0m \u001b[0;31m# the word only has 6 characters\u001b[0m\u001b[0;34m\u001b[0m\u001b[0;34m\u001b[0m\u001b[0m\n\u001b[0m",
            "\u001b[0;31mIndexError\u001b[0m: string index out of range"
          ]
        }
      ]
    },
    {
      "cell_type": "markdown",
      "source": [
        "The first row of numbers gives the position of the indices 0…6 in the string; the second row gives the\n",
        "corresponding negative indices. The slice from i to j consists of all characters between the edges labeled i\n",
        "and j, respectively.\n",
        "For non-negative indices, the length of a slice is the difference of the indices, if both are within bounds. For\n",
        "example, the length of word[1:3] is 2.\n",
        "Attempting to use an index that is too large will result in an error:"
      ],
      "metadata": {
        "id": "jL9I8XXvDNVi"
      }
    },
    {
      "cell_type": "code",
      "source": [
        "word[4:42]"
      ],
      "metadata": {
        "colab": {
          "base_uri": "https://localhost:8080/",
          "height": 35
        },
        "id": "6tprna9SD1SA",
        "outputId": "313e3185-6ce9-4158-e8d8-089821cdb393"
      },
      "execution_count": 111,
      "outputs": [
        {
          "output_type": "execute_result",
          "data": {
            "text/plain": [
              "'aj'"
            ],
            "application/vnd.google.colaboratory.intrinsic+json": {
              "type": "string"
            }
          },
          "metadata": {},
          "execution_count": 111
        }
      ]
    },
    {
      "cell_type": "code",
      "source": [
        "word[42:]"
      ],
      "metadata": {
        "colab": {
          "base_uri": "https://localhost:8080/",
          "height": 35
        },
        "id": "kPg4pEj-D4ZH",
        "outputId": "2d1efd43-66f9-4b7a-804d-2fa373a37ac6"
      },
      "execution_count": 65,
      "outputs": [
        {
          "output_type": "execute_result",
          "data": {
            "text/plain": [
              "''"
            ],
            "application/vnd.google.colaboratory.intrinsic+json": {
              "type": "string"
            }
          },
          "metadata": {},
          "execution_count": 65
        }
      ]
    },
    {
      "cell_type": "markdown",
      "source": [
        "However, out of range slice indexes are handled gracefully when used for slicing:"
      ],
      "metadata": {
        "id": "l7J3BPP_D925"
      }
    },
    {
      "cell_type": "code",
      "source": [
        "word[0] = 'J'"
      ],
      "metadata": {
        "colab": {
          "base_uri": "https://localhost:8080/",
          "height": 166
        },
        "id": "mNUdUCJKD_Aa",
        "outputId": "d8025eb2-60fd-436e-f143-27dd6555d104"
      },
      "execution_count": 112,
      "outputs": [
        {
          "output_type": "error",
          "ename": "TypeError",
          "evalue": "ignored",
          "traceback": [
            "\u001b[0;31m---------------------------------------------------------------------------\u001b[0m",
            "\u001b[0;31mTypeError\u001b[0m                                 Traceback (most recent call last)",
            "\u001b[0;32m<ipython-input-112-91a956888ca7>\u001b[0m in \u001b[0;36m<module>\u001b[0;34m\u001b[0m\n\u001b[0;32m----> 1\u001b[0;31m \u001b[0mword\u001b[0m\u001b[0;34m[\u001b[0m\u001b[0;36m0\u001b[0m\u001b[0;34m]\u001b[0m \u001b[0;34m=\u001b[0m \u001b[0;34m'J'\u001b[0m\u001b[0;34m\u001b[0m\u001b[0;34m\u001b[0m\u001b[0m\n\u001b[0m",
            "\u001b[0;31mTypeError\u001b[0m: 'str' object does not support item assignment"
          ]
        }
      ]
    },
    {
      "cell_type": "code",
      "source": [
        "word[2:] = 'py'\n"
      ],
      "metadata": {
        "colab": {
          "base_uri": "https://localhost:8080/",
          "height": 166
        },
        "id": "QDdEGe0UEGZp",
        "outputId": "8f76de13-e51a-4852-a37c-db3b689ed27c"
      },
      "execution_count": 113,
      "outputs": [
        {
          "output_type": "error",
          "ename": "TypeError",
          "evalue": "ignored",
          "traceback": [
            "\u001b[0;31m---------------------------------------------------------------------------\u001b[0m",
            "\u001b[0;31mTypeError\u001b[0m                                 Traceback (most recent call last)",
            "\u001b[0;32m<ipython-input-113-6488bbf78f5a>\u001b[0m in \u001b[0;36m<module>\u001b[0;34m\u001b[0m\n\u001b[0;32m----> 1\u001b[0;31m \u001b[0mword\u001b[0m\u001b[0;34m[\u001b[0m\u001b[0;36m2\u001b[0m\u001b[0;34m:\u001b[0m\u001b[0;34m]\u001b[0m \u001b[0;34m=\u001b[0m \u001b[0;34m'py'\u001b[0m\u001b[0;34m\u001b[0m\u001b[0;34m\u001b[0m\u001b[0m\n\u001b[0m",
            "\u001b[0;31mTypeError\u001b[0m: 'str' object does not support item assignment"
          ]
        }
      ]
    },
    {
      "cell_type": "markdown",
      "source": [
        "Python strings cannot be changed — they are immutable. Therefore, assigning to an indexed position in the\n",
        "string results in an error:\n"
      ],
      "metadata": {
        "id": "sptHjR5yELVh"
      }
    },
    {
      "cell_type": "code",
      "source": [
        "'J' + word[1:]"
      ],
      "metadata": {
        "colab": {
          "base_uri": "https://localhost:8080/",
          "height": 35
        },
        "id": "XzXxdyu-EM5R",
        "outputId": "2b8dc2d9-484c-4066-c1c1-097f37aeb79b"
      },
      "execution_count": 114,
      "outputs": [
        {
          "output_type": "execute_result",
          "data": {
            "text/plain": [
              "'Jeeraj'"
            ],
            "application/vnd.google.colaboratory.intrinsic+json": {
              "type": "string"
            }
          },
          "metadata": {},
          "execution_count": 114
        }
      ]
    },
    {
      "cell_type": "code",
      "source": [
        "word[:3] + 'Singh'"
      ],
      "metadata": {
        "colab": {
          "base_uri": "https://localhost:8080/",
          "height": 35
        },
        "id": "QkK_4MZaESPR",
        "outputId": "ce3a8ea2-3fc6-4d79-bc7e-5bc0d70548ba"
      },
      "execution_count": 115,
      "outputs": [
        {
          "output_type": "execute_result",
          "data": {
            "text/plain": [
              "'NeeSingh'"
            ],
            "application/vnd.google.colaboratory.intrinsic+json": {
              "type": "string"
            }
          },
          "metadata": {},
          "execution_count": 115
        }
      ]
    },
    {
      "cell_type": "markdown",
      "source": [
        "If you need a different string, you should create a new one:\n"
      ],
      "metadata": {
        "id": "QiaOcoF3Ef4X"
      }
    },
    {
      "cell_type": "code",
      "source": [
        "s = 'IamgoodResearcher'\n",
        "len(s)"
      ],
      "metadata": {
        "colab": {
          "base_uri": "https://localhost:8080/"
        },
        "id": "2hYEqx3FEn7x",
        "outputId": "7c41237f-1171-4029-d825-facefa41445e"
      },
      "execution_count": 116,
      "outputs": [
        {
          "output_type": "execute_result",
          "data": {
            "text/plain": [
              "17"
            ]
          },
          "metadata": {},
          "execution_count": 116
        }
      ]
    },
    {
      "cell_type": "markdown",
      "source": [
        "The built-in function len() returns the length of a string:\n"
      ],
      "metadata": {
        "id": "IPa8pzbsEqBt"
      }
    },
    {
      "cell_type": "markdown",
      "source": [
        "1. **textseq** Strings are examples of sequence types, and support the common operations supported by such\n",
        "types.\n",
        "\n",
        "2. **string-methods** Strings support a large number of methods for basic transformations and searching.\n",
        "\n",
        "3. **f-strings** String literals that have embedded expressions.\n",
        "\n",
        "4. **formatstrings** Information about string formatting with str.format().\n",
        "\n",
        "5. **old-string-formatting** The old formatting operations invoked when strings are the left operand of the % operator are described in more detail here.\n"
      ],
      "metadata": {
        "id": "GpHX1zedE9fh"
      }
    }
  ]
}