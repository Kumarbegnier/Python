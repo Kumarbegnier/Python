{
  "nbformat": 4,
  "nbformat_minor": 0,
  "metadata": {
    "colab": {
      "provenance": [],
      "collapsed_sections": [],
      "authorship_tag": "ABX9TyPIPAUW0IKzQzOWkmfhL8Qr",
      "include_colab_link": true
    },
    "kernelspec": {
      "name": "python3",
      "display_name": "Python 3"
    },
    "language_info": {
      "name": "python"
    }
  },
  "cells": [
    {
      "cell_type": "markdown",
      "metadata": {
        "id": "view-in-github",
        "colab_type": "text"
      },
      "source": [
        "<a href=\"https://colab.research.google.com/github/Kumarbegnier/Python/blob/main/Lists.ipynb\" target=\"_parent\"><img src=\"https://colab.research.google.com/assets/colab-badge.svg\" alt=\"Open In Colab\"/></a>"
      ]
    },
    {
      "cell_type": "markdown",
      "source": [
        "Python knows a number of compound data types, used to group together other values. The most versatile\n",
        "is the list, which can be written as a list of comma-separated values (items) between square brackets. Lists\n",
        "might contain items of different types, but usually the items all have the same type."
      ],
      "metadata": {
        "id": "5nAfq0T_HAr4"
      }
    },
    {
      "cell_type": "code",
      "source": [
        "squares = [1, 4, 9, 16, 25]\n"
      ],
      "metadata": {
        "id": "Rg_0gyGYHEYe"
      },
      "execution_count": 24,
      "outputs": []
    },
    {
      "cell_type": "code",
      "source": [
        "squares"
      ],
      "metadata": {
        "colab": {
          "base_uri": "https://localhost:8080/"
        },
        "id": "shiTY9bYHLBl",
        "outputId": "7339039b-b1ab-4749-d1a7-22be6dbb8255"
      },
      "execution_count": 2,
      "outputs": [
        {
          "output_type": "execute_result",
          "data": {
            "text/plain": [
              "[1, 4, 9, 16, 25]"
            ]
          },
          "metadata": {},
          "execution_count": 2
        }
      ]
    },
    {
      "cell_type": "markdown",
      "source": [
        "Like strings (and all other built-in sequence type), lists can be indexed and sliced:"
      ],
      "metadata": {
        "id": "316oGPNIHN11"
      }
    },
    {
      "cell_type": "code",
      "source": [
        "squares[0] # indexing returns the item"
      ],
      "metadata": {
        "colab": {
          "base_uri": "https://localhost:8080/"
        },
        "id": "kxpTqj-bHOg2",
        "outputId": "a3562775-3d20-43e1-a231-943a1c1f9b48"
      },
      "execution_count": 3,
      "outputs": [
        {
          "output_type": "execute_result",
          "data": {
            "text/plain": [
              "1"
            ]
          },
          "metadata": {},
          "execution_count": 3
        }
      ]
    },
    {
      "cell_type": "code",
      "source": [
        "squares[-1]"
      ],
      "metadata": {
        "colab": {
          "base_uri": "https://localhost:8080/"
        },
        "id": "fnDIuYkHHRu9",
        "outputId": "650c775d-0b4b-48f5-df4c-5f397143a7b9"
      },
      "execution_count": 4,
      "outputs": [
        {
          "output_type": "execute_result",
          "data": {
            "text/plain": [
              "25"
            ]
          },
          "metadata": {},
          "execution_count": 4
        }
      ]
    },
    {
      "cell_type": "code",
      "source": [
        "squares[-3:] # slicing returns a new list\n"
      ],
      "metadata": {
        "colab": {
          "base_uri": "https://localhost:8080/"
        },
        "id": "WmZjLhF_HVTf",
        "outputId": "b33e1873-b2ab-435f-bfcd-d20e136de6ca"
      },
      "execution_count": 5,
      "outputs": [
        {
          "output_type": "execute_result",
          "data": {
            "text/plain": [
              "[9, 16, 25]"
            ]
          },
          "metadata": {},
          "execution_count": 5
        }
      ]
    },
    {
      "cell_type": "markdown",
      "source": [
        "All slice operations return a new list containing the requested elements. This means that the following slice\n",
        "returns a new (shallow) copy of the list:"
      ],
      "metadata": {
        "id": "4dKmtRd8Heoe"
      }
    },
    {
      "cell_type": "code",
      "source": [
        "squares[:]"
      ],
      "metadata": {
        "colab": {
          "base_uri": "https://localhost:8080/"
        },
        "id": "X7vmk4MmHa5V",
        "outputId": "69f986e8-3c98-4139-f3c3-5ad7a3e738bc"
      },
      "execution_count": 6,
      "outputs": [
        {
          "output_type": "execute_result",
          "data": {
            "text/plain": [
              "[1, 4, 9, 16, 25]"
            ]
          },
          "metadata": {},
          "execution_count": 6
        }
      ]
    },
    {
      "cell_type": "markdown",
      "source": [
        "Lists also support operations like concatenation:\n"
      ],
      "metadata": {
        "id": "FshwjjK6Hi3e"
      }
    },
    {
      "cell_type": "code",
      "source": [
        "squares + [36, 49, 64, 81, 100]"
      ],
      "metadata": {
        "colab": {
          "base_uri": "https://localhost:8080/"
        },
        "id": "OE8_US-fHk1-",
        "outputId": "ba3ef4b7-7d77-4662-b8cb-2d8de90e5ed1"
      },
      "execution_count": 7,
      "outputs": [
        {
          "output_type": "execute_result",
          "data": {
            "text/plain": [
              "[1, 4, 9, 16, 25, 36, 49, 64, 81, 100]"
            ]
          },
          "metadata": {},
          "execution_count": 7
        }
      ]
    },
    {
      "cell_type": "markdown",
      "source": [
        "Unlike strings, which are immutable, lists are a mutable type, i.e. it is possible to change their content:\n"
      ],
      "metadata": {
        "id": "jYaqONnVHpRP"
      }
    },
    {
      "cell_type": "code",
      "source": [
        "cubes = [1, 8, 27, 65, 125] # something's wrong here"
      ],
      "metadata": {
        "id": "uuCc_OjKHqRX"
      },
      "execution_count": 8,
      "outputs": []
    },
    {
      "cell_type": "code",
      "source": [
        "4 ** 3 # the cube of 4 is 64, not 65!\n"
      ],
      "metadata": {
        "colab": {
          "base_uri": "https://localhost:8080/"
        },
        "id": "HvZvpKM_HzJ-",
        "outputId": "b21b8b39-9728-488a-d533-afb030ccb88a"
      },
      "execution_count": 9,
      "outputs": [
        {
          "output_type": "execute_result",
          "data": {
            "text/plain": [
              "64"
            ]
          },
          "metadata": {},
          "execution_count": 9
        }
      ]
    },
    {
      "cell_type": "code",
      "source": [
        "cubes[3] = 64 # replace the wrong value"
      ],
      "metadata": {
        "id": "2tOoU72BH162"
      },
      "execution_count": 10,
      "outputs": []
    },
    {
      "cell_type": "code",
      "source": [
        "cubes"
      ],
      "metadata": {
        "colab": {
          "base_uri": "https://localhost:8080/"
        },
        "id": "SMqEvheNH3X-",
        "outputId": "8456c507-4f65-4cb6-a97d-2fa056490299"
      },
      "execution_count": 11,
      "outputs": [
        {
          "output_type": "execute_result",
          "data": {
            "text/plain": [
              "[1, 8, 27, 64, 125]"
            ]
          },
          "metadata": {},
          "execution_count": 11
        }
      ]
    },
    {
      "cell_type": "markdown",
      "source": [
        "You can also add new items at the end of the list, by using the append() method (we will see more about\n",
        "methods later)"
      ],
      "metadata": {
        "id": "b-TJQ3sXH8jd"
      }
    },
    {
      "cell_type": "code",
      "source": [
        "cubes.append(216) # add the cube of 6"
      ],
      "metadata": {
        "id": "Uo9wG3LQIAOV"
      },
      "execution_count": 15,
      "outputs": []
    },
    {
      "cell_type": "code",
      "source": [
        "cubes.append(7 ** 3) # and the cube of 7"
      ],
      "metadata": {
        "id": "OvFf176QIDDe"
      },
      "execution_count": 16,
      "outputs": []
    },
    {
      "cell_type": "code",
      "source": [
        "cubes"
      ],
      "metadata": {
        "colab": {
          "base_uri": "https://localhost:8080/"
        },
        "id": "JLw3KzwMIYjG",
        "outputId": "55586fee-1029-4979-e700-3cc6dc40e091"
      },
      "execution_count": 23,
      "outputs": [
        {
          "output_type": "execute_result",
          "data": {
            "text/plain": [
              "[1, 8, 27, 64, 125, 216, 343, 216, 343]"
            ]
          },
          "metadata": {},
          "execution_count": 23
        }
      ]
    },
    {
      "cell_type": "markdown",
      "source": [
        "Assignment to slices is also possible, and this can even change the size of the list or clear it entirely:"
      ],
      "metadata": {
        "id": "U6YHsi_RJFdC"
      }
    },
    {
      "cell_type": "code",
      "source": [
        "letters = ['a', 'b', 'c', 'd', 'e', 'f', 'g']\n",
        "letters"
      ],
      "metadata": {
        "colab": {
          "base_uri": "https://localhost:8080/"
        },
        "id": "po9k3aVrJHir",
        "outputId": "51c9b587-a161-4032-8f8d-39a2e58f48fb"
      },
      "execution_count": 27,
      "outputs": [
        {
          "output_type": "execute_result",
          "data": {
            "text/plain": [
              "['a', 'b', 'c', 'd', 'e', 'f', 'g']"
            ]
          },
          "metadata": {},
          "execution_count": 27
        }
      ]
    },
    {
      "cell_type": "code",
      "source": [
        "letters[2:5] = ['C', 'D', 'E'] # replace some values\n",
        "letters"
      ],
      "metadata": {
        "colab": {
          "base_uri": "https://localhost:8080/"
        },
        "id": "zVPPMKIgJ28f",
        "outputId": "5b716fa5-81f9-47e7-e709-b0117146c577"
      },
      "execution_count": 30,
      "outputs": [
        {
          "output_type": "execute_result",
          "data": {
            "text/plain": [
              "['a', 'b', 'C', 'D', 'E', 'f', 'g']"
            ]
          },
          "metadata": {},
          "execution_count": 30
        }
      ]
    },
    {
      "cell_type": "code",
      "source": [
        "letters[2:5] = [] # now remove them\n",
        "letters"
      ],
      "metadata": {
        "colab": {
          "base_uri": "https://localhost:8080/"
        },
        "id": "J8s6goCbKCi-",
        "outputId": "b4326017-078e-470c-e23e-667ee749719f"
      },
      "execution_count": 31,
      "outputs": [
        {
          "output_type": "execute_result",
          "data": {
            "text/plain": [
              "['a', 'b', 'f', 'g']"
            ]
          },
          "metadata": {},
          "execution_count": 31
        }
      ]
    },
    {
      "cell_type": "code",
      "source": [
        "letters[:] = [] # clear the list by replacing all the elements with an empty list\n",
        "letters\n"
      ],
      "metadata": {
        "colab": {
          "base_uri": "https://localhost:8080/"
        },
        "id": "FTTkEVhJKKCG",
        "outputId": "3e363d23-8440-4a4b-c6d5-99faaa7b8ed8"
      },
      "execution_count": 32,
      "outputs": [
        {
          "output_type": "execute_result",
          "data": {
            "text/plain": [
              "[]"
            ]
          },
          "metadata": {},
          "execution_count": 32
        }
      ]
    },
    {
      "cell_type": "markdown",
      "source": [
        "The built-in function len() also applies to lists:\n"
      ],
      "metadata": {
        "id": "1Lp6qKUtK-Px"
      }
    },
    {
      "cell_type": "code",
      "source": [
        "letters = ['a', 'b', 'c', 'd']\n",
        "len(letters)"
      ],
      "metadata": {
        "colab": {
          "base_uri": "https://localhost:8080/"
        },
        "id": "7kpoAoLtLAS2",
        "outputId": "a9daa3ff-f965-4763-a41e-7800e3727e7d"
      },
      "execution_count": 33,
      "outputs": [
        {
          "output_type": "execute_result",
          "data": {
            "text/plain": [
              "4"
            ]
          },
          "metadata": {},
          "execution_count": 33
        }
      ]
    },
    {
      "cell_type": "markdown",
      "source": [
        "It is possible to nest lists (create lists containing other lists), for example:"
      ],
      "metadata": {
        "id": "q_RZi7DyLF4m"
      }
    },
    {
      "cell_type": "code",
      "source": [
        "a = ['a', 'b', 'c']\n",
        "n = [1, 2, 3]\n",
        "x = [a, n]\n",
        "x\n"
      ],
      "metadata": {
        "colab": {
          "base_uri": "https://localhost:8080/"
        },
        "id": "wqC9fvWpLJin",
        "outputId": "3cf0c876-1b4c-4475-e390-aeecad609cd5"
      },
      "execution_count": 34,
      "outputs": [
        {
          "output_type": "execute_result",
          "data": {
            "text/plain": [
              "[['a', 'b', 'c'], [1, 2, 3]]"
            ]
          },
          "metadata": {},
          "execution_count": 34
        }
      ]
    },
    {
      "cell_type": "code",
      "source": [
        "x[0]"
      ],
      "metadata": {
        "colab": {
          "base_uri": "https://localhost:8080/"
        },
        "id": "A-XGO5LoLe7r",
        "outputId": "ee24829f-df42-4504-868f-45606dfefc99"
      },
      "execution_count": 41,
      "outputs": [
        {
          "output_type": "execute_result",
          "data": {
            "text/plain": [
              "['a', 'b', 'c']"
            ]
          },
          "metadata": {},
          "execution_count": 41
        }
      ]
    },
    {
      "cell_type": "code",
      "source": [
        "x[1]"
      ],
      "metadata": {
        "colab": {
          "base_uri": "https://localhost:8080/"
        },
        "id": "kbVnoD_9Lr_O",
        "outputId": "9f25e241-909b-46f3-a182-0b9ce81461d1"
      },
      "execution_count": 40,
      "outputs": [
        {
          "output_type": "execute_result",
          "data": {
            "text/plain": [
              "[1, 2, 3]"
            ]
          },
          "metadata": {},
          "execution_count": 40
        }
      ]
    },
    {
      "cell_type": "code",
      "source": [
        "x[0][1]"
      ],
      "metadata": {
        "colab": {
          "base_uri": "https://localhost:8080/",
          "height": 35
        },
        "id": "ZdPDkZpGLhnu",
        "outputId": "56eb02cd-8364-4bca-e543-d228dacdf297"
      },
      "execution_count": 42,
      "outputs": [
        {
          "output_type": "execute_result",
          "data": {
            "text/plain": [
              "'b'"
            ],
            "application/vnd.google.colaboratory.intrinsic+json": {
              "type": "string"
            }
          },
          "metadata": {},
          "execution_count": 42
        }
      ]
    }
  ]
}