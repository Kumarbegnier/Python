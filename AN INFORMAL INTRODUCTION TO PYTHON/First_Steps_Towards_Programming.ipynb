{
  "nbformat": 4,
  "nbformat_minor": 0,
  "metadata": {
    "colab": {
      "provenance": [],
      "collapsed_sections": [],
      "authorship_tag": "ABX9TyNliSiyCAWwDgb48tETvlen",
      "include_colab_link": true
    },
    "kernelspec": {
      "name": "python3",
      "display_name": "Python 3"
    },
    "language_info": {
      "name": "python"
    }
  },
  "cells": [
    {
      "cell_type": "markdown",
      "metadata": {
        "id": "view-in-github",
        "colab_type": "text"
      },
      "source": [
        "<a href=\"https://colab.research.google.com/github/Kumarbegnier/Python/blob/main/First_Steps_Towards_Programming.ipynb\" target=\"_parent\"><img src=\"https://colab.research.google.com/assets/colab-badge.svg\" alt=\"Open In Colab\"/></a>"
      ]
    },
    {
      "cell_type": "markdown",
      "source": [
        "Of course, we can use Python for more complicated tasks than adding two and two together. For instance,\n",
        "we can write an initial sub-sequence of the Fibonacci series as follows:"
      ],
      "metadata": {
        "id": "cwLCCf5g4wge"
      }
    },
    {
      "cell_type": "code",
      "source": [
        "# Fibonacci series:\n",
        "# the sum of two elements defines the next\n",
        "a, b = 0, 1\n",
        "while a < 10:\n",
        "  print(a)\n",
        "  a, b = b, a+b\n"
      ],
      "metadata": {
        "colab": {
          "base_uri": "https://localhost:8080/"
        },
        "id": "IRwHoZ7w8FIO",
        "outputId": "1949690c-51db-40fc-a0b6-408061a38c20"
      },
      "execution_count": 18,
      "outputs": [
        {
          "output_type": "stream",
          "name": "stdout",
          "text": [
            "0\n",
            "1\n",
            "1\n",
            "2\n",
            "3\n",
            "5\n",
            "8\n"
          ]
        }
      ]
    },
    {
      "cell_type": "markdown",
      "source": [
        "This example introduces several new features.\n",
        "1. The first line contains a multiple assignment: the variables a and b simultaneously get the new values\n",
        "0 and 1. On the last line this is used again, demonstrating that the expressions on the right-hand side\n",
        "are all evaluated first before any of the assignments take place. The right-hand side expressions are\n",
        "evaluated from the left to the right.\n",
        "2. The while loop executes as long as the condition (here: a < 10) remains true. In Python, like in C,\n",
        "any non-zero integer value is true; zero is false. The condition may also be a string or list value, in\n",
        "fact any sequence; anything with a non-zero length is true, empty sequences are false. The test used\n",
        "in the example is a simple comparison. The standard comparison operators are written the same as in\n",
        "C: < (less than), > (greater than), == (equal to), <= (less than or equal to), >= (greater than or equal\n",
        "to) and != (not equal to).\n",
        "3. The body of the loop is indented: indentation is Python’s way of grouping statements. At the interactive\n",
        "prompt, you have to type a tab or space(s) for each indented line. In practice you will prepare more\n",
        "complicated input for Python with a text editor; all decent text editors have an auto-indent facility.\n",
        "When a compound statement is entered interactively, it must be followed by a blank line to indicate\n",
        "completion (since the parser cannot guess when you have typed the last line). Note that each line\n",
        "within a basic block must be indented by the same amount.\n",
        "4. The print() function writes the value of the argument(s) it is given. It differs from just writing\n",
        "the expression you want to write (as we did earlier in the calculator examples) in the way it handles\n",
        "multiple arguments, floating point quantities, and strings. Strings are printed without quotes, and a\n",
        "space is inserted between items, so you can format things nicely, like this:\n"
      ],
      "metadata": {
        "id": "d0uOfFN1Me9o"
      }
    },
    {
      "cell_type": "code",
      "source": [
        "i = 79*49\n",
        "print('The value of i is', i)\n"
      ],
      "metadata": {
        "colab": {
          "base_uri": "https://localhost:8080/"
        },
        "id": "jSZkfuPzMjvk",
        "outputId": "c776b8ad-97bd-48bb-d161-5303288e9d2f"
      },
      "execution_count": 15,
      "outputs": [
        {
          "output_type": "stream",
          "name": "stdout",
          "text": [
            "The value of i is 3871\n"
          ]
        }
      ]
    },
    {
      "cell_type": "markdown",
      "source": [
        "The keyword argument end can be used to avoid the newline after the output, or end the output with\n",
        "a different string:\n"
      ],
      "metadata": {
        "id": "hoMx7vp5NCQO"
      }
    },
    {
      "cell_type": "code",
      "source": [
        "a, b = 0, 1\n",
        "while a < 1000:\n",
        "  print(a, end=',')\n",
        "  a, b = b, a+b"
      ],
      "metadata": {
        "colab": {
          "base_uri": "https://localhost:8080/"
        },
        "id": "XXIgu2zgNHtf",
        "outputId": "e7c01f59-d50f-41f2-becd-155d3598e249"
      },
      "execution_count": 17,
      "outputs": [
        {
          "output_type": "stream",
          "name": "stdout",
          "text": [
            "0,1,1,2,3,5,8,13,21,34,55,89,144,233,377,610,987,"
          ]
        }
      ]
    },
    {
      "cell_type": "markdown",
      "source": [],
      "metadata": {
        "id": "Wl9piQndPgSo"
      }
    }
  ]
}